{
 "cells": [
  {
   "cell_type": "code",
   "execution_count": 4,
   "id": "3964480d-f305-43c5-b414-264badbf10be",
   "metadata": {},
   "outputs": [
    {
     "data": {
      "application/vnd.jupyter.widget-view+json": {
       "model_id": "e8a64583aaa148b7ae30d493c40c37ba",
       "version_major": 2,
       "version_minor": 0
      },
      "text/plain": [
       "interactive(children=(IntSlider(value=2006, continuous_update=False, description='Year:', max=2022, min=2006),…"
      ]
     },
     "execution_count": 4,
     "metadata": {},
     "output_type": "execute_result"
    }
   ],
   "source": [
    "import pandas as pd\n",
    "import matplotlib.pyplot as plt\n",
    "import ipywidgets as widgets\n",
    "\n",
    "# Load the data\n",
    "expenditures_data = pd.read_csv(\"AverageExpendituresOverTime(USA).csv\")\n",
    "\n",
    "# Convert monetary values to numerical format\n",
    "monetary_columns = expenditures_data.columns[1:]\n",
    "for col in monetary_columns:\n",
    "    expenditures_data[col] = expenditures_data[col].replace('[\\$,]', '', regex=True).astype(float)\n",
    "\n",
    "# Calculate spending percentages\n",
    "expenditure_columns = expenditures_data.columns[4:]\n",
    "for col in expenditure_columns:\n",
    "    expenditures_data[col + \" (%)\"] = (expenditures_data[col] / expenditures_data[\"Total Average Expenses (Source 1)\"]) * 100\n",
    "expenditures_data_percentage = expenditures_data.iloc[:, -8:]\n",
    "expenditures_data_percentage.insert(0, \"Year\", expenditures_data[\"Year\"])\n",
    "\n",
    "# Function to plot the pie chart for the selected year\n",
    "def plot_pie_chart(year):\n",
    "    # Extracting data for the selected year\n",
    "    selected_data = expenditures_data_percentage[expenditures_data_percentage[\"Year\"] == year].iloc[:, 1:]\n",
    "    total_expenses = expenditures_data[expenditures_data[\"Year\"] == year][\"Total Average Expenses (Source 1)\"].values[0]\n",
    "        \n",
    "    labels = selected_data.columns\n",
    "    sizes = selected_data.values[0]\n",
    "    \n",
    "    # Plotting the pie chart\n",
    "    fig, ax = plt.subplots(figsize=(10, 7))\n",
    "    ax.pie(sizes, labels=labels, autopct='%1.1f%%', startangle=90, colors=plt.cm.Paired.colors)\n",
    "    ax.axis('equal')  # Equal aspect ratio ensures that pie is drawn as a circle.\n",
    "    \n",
    "    # Adding the note for total expenses\n",
    "    plt.text(1.5, -1.5, f\"Total Expenses for {year}: ${total_expenses:,.2f}\", ha='right', va='bottom', fontsize=10)\n",
    "    \n",
    "    plt.title(f\"Average Spending Percentages for {year}\")\n",
    "    plt.show()\n",
    "\n",
    "# Setting bounds for the slider based on the years present in the data\n",
    "min_year = expenditures_data[\"Year\"].min()\n",
    "max_year = expenditures_data[\"Year\"].max()\n",
    "\n",
    "# Widget to select the year\n",
    "year_slider = widgets.IntSlider(\n",
    "    value=min_year,\n",
    "    min=min_year,\n",
    "    max=max_year,\n",
    "    step=1,\n",
    "    description='Year:',\n",
    "    continuous_update=False\n",
    ")\n",
    "\n",
    "# Displaying the slider and the pie chart\n",
    "widgets.interactive(plot_pie_chart, year=year_slider)\n"
   ]
  },
  {
   "cell_type": "code",
   "execution_count": null,
   "id": "d693b625-52ab-4ce6-be29-5eeef2d8e961",
   "metadata": {},
   "outputs": [],
   "source": []
  },
  {
   "cell_type": "code",
   "execution_count": null,
   "id": "80577237-d06d-47db-adcb-26a603cd2895",
   "metadata": {},
   "outputs": [],
   "source": []
  }
 ],
 "metadata": {
  "kernelspec": {
   "display_name": "Python 3 (ipykernel)",
   "language": "python",
   "name": "python3"
  },
  "language_info": {
   "codemirror_mode": {
    "name": "ipython",
    "version": 3
   },
   "file_extension": ".py",
   "mimetype": "text/x-python",
   "name": "python",
   "nbconvert_exporter": "python",
   "pygments_lexer": "ipython3",
   "version": "3.11.1"
  }
 },
 "nbformat": 4,
 "nbformat_minor": 5
}
